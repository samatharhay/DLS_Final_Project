{
  "nbformat": 4,
  "nbformat_minor": 0,
  "metadata": {
    "colab": {
      "name": "Denoising_Function.ipynb",
      "provenance": [],
      "collapsed_sections": []
    },
    "kernelspec": {
      "name": "python3",
      "display_name": "Python 3"
    },
    "language_info": {
      "name": "python"
    }
  },
  "cells": [
    {
      "cell_type": "code",
      "metadata": {
        "colab": {
          "base_uri": "https://localhost:8080/"
        },
        "id": "Rh-v7XIu-0t0",
        "outputId": "88abeeaf-42d8-4648-cf9d-5dde53f1ea0b"
      },
      "source": [
        "import cv2\n",
        "import numpy as np\n",
        "from skimage.util import random_noise\n",
        "from matplotlib import pyplot as plt\n",
        "from skimage.metrics import peak_signal_noise_ratio\n",
        "import torch\n",
        "import glob\n",
        "from IPython.display import clear_output\n",
        "\n",
        "noiseL = 15\n",
        "def process_image(image):\n",
        "    image = torch.FloatTensor(image)/255\n",
        "    return image\n",
        "\n",
        "def add_noise(img):\n",
        "    mean = torch.zeros(img.size(), dtype=torch.float32)\n",
        "    noise = torch.normal(mean=mean, std=noiseL/255.)\n",
        "    imgn_test = torch.clamp(img + noise, 0., 1.)\n",
        "    return imgn_test\n",
        "\n",
        "def output(original,noisy):\n",
        "    cv2.imwrite(\"original.png\", original.numpy()*255)\n",
        "    cv2.imwrite(\"noisy.png\", noisy.numpy()*255)\n",
        "    \n",
        "    \n",
        "def compute_avg_psnr(gt_img, output_img, data_range=1):\n",
        "    gt_img = gt_img.numpy().astype(np.float32)\n",
        "    output_img = output_img.numpy().astype(np.float32)\n",
        "    PSNR=0\n",
        "    for i in range(gt_img.shape[0]):\n",
        "        PSNR += peak_signal_noise_ratio(output_img[i,:,:], gt_img[i,:,:], data_range=data_range)\n",
        "    return PSNR/gt_img.shape[0]\n",
        "\n",
        "    \n",
        "counter = 0\n",
        "total_psnr = 0\n",
        "total_psnr_denoised = 0\n",
        "for filename in glob.glob('/content/drive/MyDrive/Datasets/val/*.PNG'):\n",
        "    clear_output(wait=True)\n",
        "    img = cv2.resize(cv2.imread(filename), (50,50), interpolation = cv2.INTER_AREA)\n",
        "    img = process_image(img)\n",
        "    noisy = add_noise(img)\n",
        "    cv2.imwrite(\"noisy.png\", noisy.numpy()*255)\n",
        "    noisy_img = cv2.imread(\"noisy.png\")\n",
        "    denoised = cv2.fastNlMeansDenoisingColored(noisy_img,None,10,10,7,21)\n",
        "    psnr = compute_avg_psnr(img,noisy)\n",
        "    total_psnr+=psnr\n",
        "    psnr_denoised = compute_avg_psnr(img,process_image(denoised))\n",
        "    total_psnr_denoised +=psnr_denoised\n",
        "    counter+=1\n",
        "    print(counter)\n",
        "print(\"Average GT to Noisy PSNR: \" +str(total_psnr/counter))\n",
        "print(\"Average Denoising Function PSNR: \" +str(total_psnr_denoised/counter))"
      ],
      "execution_count": null,
      "outputs": [
        {
          "output_type": "stream",
          "name": "stdout",
          "text": [
            "320\n",
            "Average GT to Noisy PSNR: 24.843657291388904\n",
            "Average Denoising Function PSNR: 27.646683580850027\n"
          ]
        }
      ]
    }
  ]
}